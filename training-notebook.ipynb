{
 "cells": [
  {
   "cell_type": "code",
   "execution_count": 1,
   "metadata": {},
   "outputs": [
    {
     "name": "stdout",
     "output_type": "stream",
     "text": [
      "2.0.0\n"
     ]
    }
   ],
   "source": [
    "import tensorflow as tf; print(tf.__version__)"
   ]
  },
  {
   "cell_type": "code",
   "execution_count": 2,
   "metadata": {},
   "outputs": [
    {
     "data": {
      "text/plain": [
       "'/device:GPU:0'"
      ]
     },
     "execution_count": 2,
     "metadata": {},
     "output_type": "execute_result"
    }
   ],
   "source": [
    "tf.test.gpu_device_name()"
   ]
  },
  {
   "cell_type": "markdown",
   "metadata": {},
   "source": [
    "#### GPU Hickups"
   ]
  },
  {
   "cell_type": "code",
   "execution_count": 3,
   "metadata": {},
   "outputs": [],
   "source": [
    "physical_devices = tf.config.experimental.list_physical_devices('GPU')\n",
    "# physical_devices = tf.config.experimental.list_physical_device  \n",
    "\n",
    "tf.config.experimental.set_memory_growth(physical_devices[0], True) \n",
    "assert tf.config.experimental.get_memory_growth(physical_devices[0]) \n"
   ]
  },
  {
   "cell_type": "code",
   "execution_count": 4,
   "metadata": {},
   "outputs": [
    {
     "data": {
      "text/plain": [
       "True"
      ]
     },
     "execution_count": 4,
     "metadata": {},
     "output_type": "execute_result"
    }
   ],
   "source": [
    "tf.test.is_built_with_cuda()\n",
    "tf.test.is_gpu_available(cuda_only=False, min_cuda_compute_capability=None)"
   ]
  },
  {
   "cell_type": "code",
   "execution_count": 5,
   "metadata": {},
   "outputs": [
    {
     "data": {
      "text/plain": [
       "[PhysicalDevice(name='/physical_device:GPU:0', device_type='GPU')]"
      ]
     },
     "execution_count": 5,
     "metadata": {},
     "output_type": "execute_result"
    }
   ],
   "source": [
    "gpus = tf.config.experimental.list_physical_devices('GPU')\n",
    "gpus"
   ]
  },
  {
   "cell_type": "code",
   "execution_count": 6,
   "metadata": {},
   "outputs": [
    {
     "name": "stdout",
     "output_type": "stream",
     "text": [
      "[name: \"/device:CPU:0\"\n",
      "device_type: \"CPU\"\n",
      "memory_limit: 268435456\n",
      "locality {\n",
      "}\n",
      "incarnation: 7417433128456525617\n",
      ", name: \"/device:XLA_CPU:0\"\n",
      "device_type: \"XLA_CPU\"\n",
      "memory_limit: 17179869184\n",
      "locality {\n",
      "}\n",
      "incarnation: 6967288727507582727\n",
      "physical_device_desc: \"device: XLA_CPU device\"\n",
      ", name: \"/device:XLA_GPU:0\"\n",
      "device_type: \"XLA_GPU\"\n",
      "memory_limit: 17179869184\n",
      "locality {\n",
      "}\n",
      "incarnation: 18243514364204148420\n",
      "physical_device_desc: \"device: XLA_GPU device\"\n",
      ", name: \"/device:GPU:0\"\n",
      "device_type: \"GPU\"\n",
      "memory_limit: 10813302375\n",
      "locality {\n",
      "  bus_id: 3\n",
      "  numa_node: 2\n",
      "  links {\n",
      "  }\n",
      "}\n",
      "incarnation: 15170722574184283275\n",
      "physical_device_desc: \"device: 0, name: GeForce RTX 2080 Ti, pci bus id: 0000:43:00.0, compute capability: 7.5\"\n",
      "]\n"
     ]
    }
   ],
   "source": [
    "from tensorflow.python.client import device_lib\n",
    "\n",
    "print(device_lib.list_local_devices())"
   ]
  },
  {
   "cell_type": "code",
   "execution_count": 8,
   "metadata": {},
   "outputs": [],
   "source": [
    "from tensorflow.keras.models import Sequential\n",
    "from tensorflow.keras.layers import BatchNormalization\n",
    "from tensorflow.keras.layers import SeparableConv2D\n",
    "from tensorflow.keras.layers import MaxPooling2D\n",
    "from tensorflow.keras.layers import Activation\n",
    "from tensorflow.keras.layers import Flatten\n",
    "from tensorflow.keras.layers import Dropout\n",
    "from tensorflow.keras.layers import Dense"
   ]
  },
  {
   "cell_type": "markdown",
   "metadata": {},
   "source": [
    "### Detection CNN"
   ]
  },
  {
   "cell_type": "code",
   "execution_count": 9,
   "metadata": {},
   "outputs": [],
   "source": [
    "class FireDetectionNet:\n",
    "    @staticmethod\n",
    "    def build(width, height, depth, classes):\n",
    "        # initialize the model along with the input shape to be\n",
    "        # \"channels last\" and the channels dimension itself\n",
    "        model = Sequential()\n",
    "        inputShape = (height, width, depth)\n",
    "        chanDim = -1\n",
    "        \n",
    "        model.add(SeparableConv2D(16, (7, 7), padding=\"same\",\n",
    "                                  input_shape=inputShape))\n",
    "        model.add(Activation(\"relu\"))\n",
    "        model.add(BatchNormalization(axis=chanDim))\n",
    "        model.add(MaxPooling2D(pool_size=(2, 2)))\n",
    "        \n",
    "        model.add(SeparableConv2D(32, (3, 3), padding=\"same\"))\n",
    "        model.add(Activation(\"relu\"))\n",
    "        model.add(BatchNormalization(axis=chanDim))\n",
    "        model.add(MaxPooling2D(pool_size=(2, 2)))\n",
    "        \n",
    "        model.add(SeparableConv2D(64, (3, 3), padding=\"same\"))\n",
    "        model.add(Activation(\"relu\"))\n",
    "        model.add(BatchNormalization(axis=chanDim))\n",
    "        model.add(SeparableConv2D(64, (3, 3), padding=\"same\"))\n",
    "        model.add(Activation(\"relu\"))\n",
    "        model.add(BatchNormalization(axis=chanDim))\n",
    "        model.add(MaxPooling2D(pool_size=(2, 2)))\n",
    "        \n",
    "        model.add(Flatten())\n",
    "        model.add(Dense(128))\n",
    "        model.add(Activation(\"relu\"))\n",
    "        model.add(BatchNormalization())\n",
    "        model.add(Dropout(0.5))\n",
    "\n",
    "        # second set of FC => RELU layers\n",
    "        model.add(Dense(128))\n",
    "        model.add(Activation(\"relu\"))\n",
    "        model.add(BatchNormalization())\n",
    "        model.add(Dropout(0.5))\n",
    "\n",
    "        # softmax classifier\n",
    "        model.add(Dense(classes))\n",
    "        model.add(Activation(\"softmax\"))\n",
    "\n",
    "        # return the constructed network architecture\n",
    "        return model"
   ]
  },
  {
   "cell_type": "code",
   "execution_count": 10,
   "metadata": {},
   "outputs": [],
   "source": [
    "from tensorflow.keras.callbacks import LambdaCallback\n",
    "from tensorflow.keras import backend as K\n",
    "import matplotlib.pyplot as plt\n",
    "import numpy as np\n",
    "import tempfile"
   ]
  },
  {
   "cell_type": "code",
   "execution_count": 11,
   "metadata": {},
   "outputs": [],
   "source": [
    "class LearningRateFinder:\n",
    "    def __init__(self, model, stopFactor=4, beta=0.98):\n",
    "        # store the model, stop factor, and beta value (for computing\n",
    "        # a smoothed, average loss)\n",
    "        self.model = model\n",
    "        self.stopFactor = stopFactor\n",
    "        self.beta = beta\n",
    "\n",
    "        # initialize our list of learning rates and losses,\n",
    "        # respectively\n",
    "        self.lrs = []\n",
    "        self.losses = []\n",
    "\n",
    "        # initialize our learning rate multiplier, average loss, best\n",
    "        # loss found thus far, current batch number, and weights file\n",
    "        self.lrMult = 1\n",
    "        self.avgLoss = 0\n",
    "        self.bestLoss = 1e9\n",
    "        self.batchNum = 0\n",
    "        self.weightsFile = None\n",
    "\n",
    "    def reset(self):\n",
    "        # re-initialize all variables from our constructor\n",
    "        self.lrs = []\n",
    "        self.losses = []\n",
    "        self.lrMult = 1\n",
    "        self.avgLoss = 0\n",
    "        self.bestLoss = 1e9\n",
    "        self.batchNum = 0\n",
    "        self.weightsFile = None\n",
    "\n",
    "    def is_data_iter(self, data):\n",
    "        # define the set of class types we will check for\n",
    "        iterClasses = [\"NumpyArrayIterator\", \"DirectoryIterator\",\n",
    "             \"DataFrameIterator\", \"Iterator\", \"Sequence\"]\n",
    "\n",
    "        # return whether our data is an iterator\n",
    "        return data.__class__.__name__ in iterClasses\n",
    "\n",
    "    def on_batch_end(self, batch, logs):\n",
    "        # grab the current learning rate and add log it to the list of\n",
    "        # learning rates that we've tried\n",
    "        lr = K.get_value(self.model.optimizer.lr)\n",
    "        self.lrs.append(lr)\n",
    "\n",
    "        # grab the loss at the end of this batch, increment the total\n",
    "        # number of batches processed, compute the average average\n",
    "        # loss, smooth it, and update the losses list with the\n",
    "        # smoothed value\n",
    "        l = logs[\"loss\"]\n",
    "        self.batchNum += 1\n",
    "        self.avgLoss = (self.beta * self.avgLoss) + ((1 - self.beta) * l)\n",
    "        smooth = self.avgLoss / (1 - (self.beta ** self.batchNum))\n",
    "        self.losses.append(smooth)\n",
    "\n",
    "        # compute the maximum loss stopping factor value\n",
    "        stopLoss = self.stopFactor * self.bestLoss\n",
    "\n",
    "        # check to see whether the loss has grown too large\n",
    "        if self.batchNum > 1 and smooth > stopLoss:\n",
    "            # stop returning and return from the method\n",
    "            self.model.stop_training = True\n",
    "            return\n",
    "\n",
    "        # check to see if the best loss should be updated\n",
    "        if self.batchNum == 1 or smooth < self.bestLoss:\n",
    "            self.bestLoss = smooth\n",
    "\n",
    "        # increase the learning rate\n",
    "        lr *= self.lrMult\n",
    "        K.set_value(self.model.optimizer.lr, lr)\n",
    "\n",
    "    def find(self, trainData, startLR, endLR, epochs=None,\n",
    "        stepsPerEpoch=None, batchSize=32, sampleSize=2048,\n",
    "        classWeight=None, verbose=1):\n",
    "        # reset our class-specific variables\n",
    "        self.reset()\n",
    "\n",
    "        # determine if we are using a data generator or not\n",
    "        useGen = self.is_data_iter(trainData)\n",
    "\n",
    "        # if we're using a generator and the steps per epoch is not\n",
    "        # supplied, raise an error\n",
    "        if useGen and stepsPerEpoch is None:\n",
    "            msg = \"Using generator without supplying stepsPerEpoch\"\n",
    "            raise Exception(msg)\n",
    "\n",
    "        # if we're not using a generator then our entire dataset must\n",
    "        # already be in memory\n",
    "        elif not useGen:\n",
    "            # grab the number of samples in the training data and\n",
    "            # then derive the number of steps per epoch\n",
    "            numSamples = len(trainData[0])\n",
    "            stepsPerEpoch = np.ceil(numSamples / float(batchSize))\n",
    "\n",
    "        # if no number of training epochs are supplied, compute the\n",
    "        # training epochs based on a default sample size\n",
    "        if epochs is None:\n",
    "            epochs = int(np.ceil(sampleSize / float(stepsPerEpoch)))\n",
    "\n",
    "        # compute the total number of batch updates that will take\n",
    "        # place while we are attempting to find a good starting\n",
    "        # learning rate\n",
    "        numBatchUpdates = epochs * stepsPerEpoch\n",
    "\n",
    "        # derive the learning rate multiplier based on the ending\n",
    "        # learning rate, starting learning rate, and total number of\n",
    "        # batch updates\n",
    "        self.lrMult = (endLR / startLR) ** (1.0 / numBatchUpdates)\n",
    "\n",
    "        # create a temporary file path for the model weights and\n",
    "        # then save the weights (so we can reset the weights when we\n",
    "        # are done)\n",
    "        self.weightsFile = tempfile.mkstemp()[1]\n",
    "        self.model.save_weights(self.weightsFile)\n",
    "\n",
    "        # grab the *original* learning rate (so we can reset it\n",
    "        # later), and then set the *starting* learning rate\n",
    "        origLR = K.get_value(self.model.optimizer.lr)\n",
    "        K.set_value(self.model.optimizer.lr, startLR)\n",
    "\n",
    "        # construct a callback that will be called at the end of each\n",
    "        # batch, enabling us to increase our learning rate as training\n",
    "        # progresses\n",
    "        callback = LambdaCallback(on_batch_end=lambda batch, logs:\n",
    "            self.on_batch_end(batch, logs))\n",
    "\n",
    "        # check to see if we are using a data iterator\n",
    "        if useGen:\n",
    "            self.model.fit_generator(\n",
    "                trainData,\n",
    "                steps_per_epoch=stepsPerEpoch,\n",
    "                epochs=epochs,\n",
    "                class_weight=classWeight,\n",
    "                verbose=verbose,\n",
    "                callbacks=[callback])\n",
    "\n",
    "        # otherwise, our entire training data is already in memory\n",
    "        else:\n",
    "            # train our model using Keras' fit method\n",
    "            self.model.fit(\n",
    "                trainData[0], trainData[1],\n",
    "                batch_size=batchSize,\n",
    "                epochs=epochs,\n",
    "                class_weight=classWeight,\n",
    "                callbacks=[callback],\n",
    "                verbose=verbose)\n",
    "\n",
    "        # restore the original model weights and learning rate\n",
    "        self.model.load_weights(self.weightsFile)\n",
    "        K.set_value(self.model.optimizer.lr, origLR)\n",
    "\n",
    "    def plot_loss(self, skipBegin=10, skipEnd=1, title=\"\"):\n",
    "        # grab the learning rate and losses values to plot\n",
    "        lrs = self.lrs[skipBegin:-skipEnd]\n",
    "        losses = self.losses[skipBegin:-skipEnd]\n",
    "\n",
    "        # plot the learning rate vs. loss\n",
    "        plt.plot(lrs, losses)\n",
    "        plt.xscale(\"log\")\n",
    "        plt.xlabel(\"Learning Rate (Log Scale)\")\n",
    "        plt.ylabel(\"Loss\")\n",
    "        \n",
    "        # if the title is not empty, add it to the plot\n",
    "        if title != \"\":\n",
    "            plt.title(title)"
   ]
  },
  {
   "cell_type": "code",
   "execution_count": 12,
   "metadata": {},
   "outputs": [],
   "source": [
    "import os\n",
    "from datetime import date\n",
    "\n",
    "today = date.today()\n",
    "\n",
    "#directory to output all the figures and model\n",
    "baseDir = \"/userdata/kerasData/output\"\n",
    "targetDir = os.path.sep.join([baseDir,str(today)])\n",
    "if not os.path.exists(baseDir):\n",
    "    os.mkdir(baseDir)\n",
    "    print('Created directory: ' + baseDir)\n",
    "\n",
    "if not os.path.exists(targetDir):\n",
    "    os.mkdir(targetDir)\n",
    "    print('Created directory: ' + targetDir)\n",
    "\n",
    "# set the path to the serialized model after training\n",
    "MODEL_PATH = os.path.sep.join([targetDir, \"fire_detection.model\"])\n",
    "# define the path to the output learning rate finder plot and\n",
    "# training history plot\n",
    "LRFIND_PLOT_PATH = os.path.sep.join([targetDir, \"lrfindd_plot.png\"])\n",
    "TRAINING_PLOT_PATH = os.path.sep.join([targetDir, \"training_plot.png\"])\n",
    "\n",
    "# define the path to the output directory that will store our final\n",
    "# output with labels/annotations along with the number of iamges to\n",
    "# sample\n",
    "OUTPUT_IMAGE_PATH = os.path.sep.join([targetDir, \"examples\"])\n",
    "SAMPLE_SIZE = 50"
   ]
  },
  {
   "cell_type": "markdown",
   "metadata": {},
   "source": [
    "### Loading Data"
   ]
  },
  {
   "cell_type": "code",
   "execution_count": 13,
   "metadata": {},
   "outputs": [],
   "source": [
    "import matplotlib\n",
    "matplotlib.use(\"Agg\")\n",
    " \n",
    "# import the necessary packages\n",
    "from tensorflow.keras.preprocessing.image import ImageDataGenerator\n",
    "from tensorflow.keras.optimizers import SGD\n",
    "from tensorflow.keras.utils import to_categorical\n",
    "from sklearn.model_selection import train_test_split\n",
    "from sklearn.metrics import classification_report\n",
    "# from imutils import paths\n",
    "import matplotlib.pyplot as plt\n",
    "import numpy as np\n",
    "import argparse\n",
    "import cv2\n",
    "import os\n",
    "import sys\n",
    "import regex as re"
   ]
  },
  {
   "cell_type": "code",
   "execution_count": 14,
   "metadata": {},
   "outputs": [],
   "source": [
    "def load_dataset(datasetPath):\n",
    "    # grab the paths to all images in our dataset directory, then\n",
    "    # initialize our lists of images\n",
    "    imagePaths = os.listdir(datasetPath)\n",
    "    trainXList = []\n",
    "    testXList = []\n",
    "    testX = np.array([])\n",
    "    trainY = np.array([])\n",
    "    trainY = np.array([])\n",
    "    testY = np.array([])\n",
    "\n",
    "    testI = 0 \n",
    "    \n",
    "    # loop over the image paths\n",
    "    for directories in imagePaths:\n",
    "        tempF= []\n",
    "        tempNF = []\n",
    "        \n",
    "        for element in os.listdir(datasetPath + \"/\"+ directories):\n",
    "            if re.search(\".jpg\", element):\n",
    "                image = cv2.imread(datasetPath + \"/\"+ directories + \"/\" + element)\n",
    "                image = cv2.resize(image, (128,128))\n",
    "            if \"+\" in element:\n",
    "                tempF.append(image)\n",
    "            else:\n",
    "                tempNF.append(image)\n",
    "                \n",
    "        tempF = np.array(tempF, dtype=\"float32\")\n",
    "        tempNF = np.array(tempNF,  dtype=\"float32\")\n",
    "        \n",
    "        fireLabels = np.ones((tempF.shape[0],))\n",
    "        nonFireLabels = np.zeros((tempNF.shape[0],))\n",
    "        data = np.vstack([tempF, tempNF])\n",
    "        labels = np.hstack([fireLabels, nonFireLabels])\n",
    "        labels = to_categorical(labels, num_classes=2)\n",
    "        \n",
    "        #print(labels)\n",
    "        \n",
    "        data /= 255\n",
    "\n",
    "        (t_trainX, t_testX, t_trainY, t_testY) = train_test_split(data, labels,\n",
    "                                                                  test_size=0.2, random_state=42)\n",
    "        \n",
    "        trainXList.append(t_trainX)\n",
    "        testXList.append(t_testX)\n",
    "        \n",
    "        if trainY.size == 0:\n",
    "            trainY = t_trainY\n",
    "            testY = t_testY\n",
    "        else:\n",
    "            trainY = np.append(trainY, t_trainY, axis = 0)\n",
    "            testY = np.append(testY, t_testY, axis = 0)\n",
    "\n",
    "    \n",
    "    trainX = np.vstack(trainXList)\n",
    "    testX = np.vstack(testXList)\n",
    "    \n",
    "    labels = np.append(trainY, testY)\n",
    "    labels = to_categorical(labels, num_classes=2)\n",
    "    classTotals = labels.sum(axis=0)\n",
    "    classWeight = classTotals.max() / classTotals\n",
    "    \n",
    "    print(trainX.shape, testX.shape, trainY.shape, testY.shape)\n",
    "        \n",
    "    return trainX, testX, trainY, testY, classWeight"
   ]
  },
  {
   "cell_type": "markdown",
   "metadata": {},
   "source": [
    "#### Load a smaller dataset for debugging purposes\n",
    "I copied one folder from `/userdata/kerasData/wildfireP/hpwren.ucsd.edu/HWBHPWREN-FIgLib`"
   ]
  },
  {
   "cell_type": "markdown",
   "metadata": {},
   "source": [
    "```bash\n",
    "/userdata/kerasData/wildfireP/hpwren.ucsd.edu/HWB\n",
    "mkdir HPWREN-SmallTest\n",
    "cp HPWREN-FIgLib/20170625-BBM-bm-n-mobo/ HPWREN-SmallTest/\n",
    "```"
   ]
  },
  {
   "cell_type": "code",
   "execution_count": 15,
   "metadata": {},
   "outputs": [],
   "source": [
    "# fireDataDir = \"/userdata/kerasData/wildfireP/hpwren.ucsd.edu/HWB/HPWREN-SmallTest\"\n",
    "# trainX, testX, trainY, testY, classWeight = load_dataset(fireDataDir)"
   ]
  },
  {
   "cell_type": "markdown",
   "metadata": {},
   "source": [
    "#### Load the entire dataset"
   ]
  },
  {
   "cell_type": "code",
   "execution_count": 16,
   "metadata": {},
   "outputs": [
    {
     "name": "stdout",
     "output_type": "stream",
     "text": [
      "(2618, 128, 128, 3) (686, 128, 128, 3) (2618, 2) (686, 2)\n"
     ]
    }
   ],
   "source": [
    "fireDataDir = \"/userdata/kerasData/labeldata\"\n",
    "#Does it exist, if not download from object storage\n",
    "if not os.path.exists(fireDataDir):\n",
    "    #make a call to api to download data\n",
    "    print('Created directory: ' + targetDir)\n",
    "trainX, testX, trainY, testY, classWeight = load_dataset(fireDataDir)"
   ]
  },
  {
   "cell_type": "code",
   "execution_count": 17,
   "metadata": {},
   "outputs": [
    {
     "name": "stdout",
     "output_type": "stream",
     "text": [
      "Populating the interactive namespace from numpy and matplotlib\n"
     ]
    },
    {
     "name": "stderr",
     "output_type": "stream",
     "text": [
      "/opt/conda/lib/python3.6/site-packages/IPython/core/magics/pylab.py:160: UserWarning: pylab import has clobbered these variables: ['re']\n",
      "`%matplotlib` prevents importing * from pylab and numpy\n",
      "  \"\\n`%matplotlib` prevents importing * from pylab and numpy\"\n"
     ]
    },
    {
     "data": {
      "image/png": "[encoded data removed]",
      "text/plain": [
       "<Figure size 432x288 with 1 Axes>"
      ]
     },
     "metadata": {
      "needs_background": "light"
     },
     "output_type": "display_data"
    }
   ],
   "source": [
    "%pylab inline\n",
    "plt.imshow(trainX[0,:,:,:])\n",
    "plt.show()"
   ]
  },
  {
   "cell_type": "markdown",
   "metadata": {},
   "source": [
    "## Start of Model"
   ]
  },
  {
   "cell_type": "code",
   "execution_count": 18,
   "metadata": {},
   "outputs": [],
   "source": [
    "BATCH_SIZE = 8\n",
    "Width = 128\n",
    "Height = 128\n",
    "Depth = 3\n",
    "Classes= 2\n",
    "# initialize the class labels in the dataset\n",
    "CLASSES = [\"Non-Fire\", \"Fire\"]\n",
    "\n",
    "# define the size of the training and testing split\n",
    "TRAIN_SPLIT = 0.75\n",
    "TEST_SPLIT = 0.25\n",
    "\n",
    "# define the initial learning rate, batch size, and number of epochs\n",
    "INIT_LR = 1e-3\n",
    "BATCH_SIZE = 8\n",
    "NUM_EPOCHS = 50"
   ]
  },
  {
   "cell_type": "code",
   "execution_count": 19,
   "metadata": {},
   "outputs": [],
   "source": [
    "model = FireDetectionNet.build(width=Width, height=Height, depth=Depth, classes=Classes)"
   ]
  },
  {
   "cell_type": "code",
   "execution_count": 20,
   "metadata": {},
   "outputs": [],
   "source": [
    "opt= SGD(lr=INIT_LR, momentum=0.9,decay=INIT_LR / NUM_EPOCHS)\n",
    "model.compile(loss=\"binary_crossentropy\", optimizer=opt, metrics = ['accuracy'])\n",
    "\n",
    "aug = ImageDataGenerator(\n",
    "    rotation_range=30,\n",
    "    zoom_range=0.15,\n",
    "    width_shift_range=0.2,\n",
    "    height_shift_range=0.2,\n",
    "    shear_range=0.15,\n",
    "    horizontal_flip=True,\n",
    "    fill_mode=\"nearest\")"
   ]
  },
  {
   "cell_type": "markdown",
   "metadata": {},
   "source": [
    "#### Learning Rate Finder"
   ]
  },
  {
   "cell_type": "code",
   "execution_count": 21,
   "metadata": {},
   "outputs": [],
   "source": [
    "lrf = LearningRateFinder(model)\n",
    "stepsPerEpochNum=np.ceil((trainX.shape[0] / float(BATCH_SIZE)))"
   ]
  },
  {
   "cell_type": "code",
   "execution_count": 22,
   "metadata": {
    "scrolled": false
   },
   "outputs": [
    {
     "name": "stdout",
     "output_type": "stream",
     "text": [
      "Epoch 1/50\n",
      "328/328 [==============================] - 27s 82ms/step - loss: 1.2116 - accuracy: 0.5275\n",
      "Epoch 2/50\n",
      "328/328 [==============================] - 25s 77ms/step - loss: 1.2871 - accuracy: 0.5275\n",
      "Epoch 3/50\n",
      "328/328 [==============================] - 27s 82ms/step - loss: 1.3071 - accuracy: 0.5095\n",
      "Epoch 4/50\n",
      "328/328 [==============================] - 27s 81ms/step - loss: 1.3111 - accuracy: 0.5080\n",
      "Epoch 5/50\n",
      "328/328 [==============================] - 26s 80ms/step - loss: 1.3382 - accuracy: 0.5031\n",
      "Epoch 6/50\n",
      "328/328 [==============================] - 26s 80ms/step - loss: 1.3406 - accuracy: 0.4912\n",
      "Epoch 7/50\n",
      "328/328 [==============================] - 27s 81ms/step - loss: 1.2723 - accuracy: 0.5176\n",
      "Epoch 8/50\n",
      "328/328 [==============================] - 26s 79ms/step - loss: 1.2844 - accuracy: 0.5076\n",
      "Epoch 9/50\n",
      "328/328 [==============================] - 26s 81ms/step - loss: 1.3382 - accuracy: 0.4969\n",
      "Epoch 10/50\n",
      "328/328 [==============================] - 26s 78ms/step - loss: 1.3219 - accuracy: 0.5015\n",
      "Epoch 11/50\n",
      "328/328 [==============================] - 27s 82ms/step - loss: 1.2949 - accuracy: 0.5038\n",
      "Epoch 12/50\n",
      "328/328 [==============================] - 26s 81ms/step - loss: 1.3351 - accuracy: 0.4989\n",
      "Epoch 13/50\n",
      "328/328 [==============================] - 26s 78ms/step - loss: 1.3004 - accuracy: 0.4905\n",
      "Epoch 14/50\n",
      "328/328 [==============================] - 25s 77ms/step - loss: 1.3702 - accuracy: 0.4874\n",
      "Epoch 15/50\n",
      "328/328 [==============================] - 27s 81ms/step - loss: 1.3295 - accuracy: 0.4973\n",
      "Epoch 16/50\n",
      "328/328 [==============================] - 25s 77ms/step - loss: 1.3294 - accuracy: 0.4878\n",
      "Epoch 17/50\n",
      "328/328 [==============================] - 26s 79ms/step - loss: 1.2953 - accuracy: 0.4966\n",
      "Epoch 18/50\n",
      "328/328 [==============================] - 26s 79ms/step - loss: 1.3477 - accuracy: 0.4962\n",
      "Epoch 19/50\n",
      "328/328 [==============================] - 26s 80ms/step - loss: 1.3339 - accuracy: 0.4992\n",
      "Epoch 20/50\n",
      "328/328 [==============================] - 25s 78ms/step - loss: 1.2953 - accuracy: 0.5023\n",
      "Epoch 21/50\n",
      "328/328 [==============================] - 26s 78ms/step - loss: 1.2549 - accuracy: 0.5050\n",
      "Epoch 22/50\n",
      "328/328 [==============================] - 26s 79ms/step - loss: 1.2362 - accuracy: 0.5111\n",
      "Epoch 23/50\n",
      "328/328 [==============================] - 26s 78ms/step - loss: 1.2742 - accuracy: 0.4924\n",
      "Epoch 24/50\n",
      "328/328 [==============================] - 26s 79ms/step - loss: 1.2288 - accuracy: 0.4977\n",
      "Epoch 25/50\n",
      "328/328 [==============================] - 26s 78ms/step - loss: 1.2148 - accuracy: 0.4897\n",
      "Epoch 26/50\n",
      "328/328 [==============================] - 25s 77ms/step - loss: 1.1290 - accuracy: 0.5073\n",
      "Epoch 27/50\n",
      "328/328 [==============================] - 26s 80ms/step - loss: 1.0889 - accuracy: 0.5038\n",
      "Epoch 28/50\n",
      "328/328 [==============================] - 26s 78ms/step - loss: 0.9814 - accuracy: 0.5092\n",
      "Epoch 29/50\n",
      "328/328 [==============================] - 26s 79ms/step - loss: 0.8909 - accuracy: 0.5141\n",
      "Epoch 30/50\n",
      "328/328 [==============================] - 26s 80ms/step - loss: 0.7852 - accuracy: 0.5065\n",
      "Epoch 31/50\n",
      "328/328 [==============================] - 26s 79ms/step - loss: 0.7259 - accuracy: 0.5256\n",
      "Epoch 32/50\n",
      "328/328 [==============================] - 26s 80ms/step - loss: 0.7251 - accuracy: 0.5065\n",
      "Epoch 33/50\n",
      "328/328 [==============================] - 27s 82ms/step - loss: 0.7302 - accuracy: 0.5061\n",
      "Epoch 34/50\n",
      "328/328 [==============================] - 25s 77ms/step - loss: 0.7728 - accuracy: 0.5103\n",
      "Epoch 35/50\n",
      "328/328 [==============================] - 25s 77ms/step - loss: 0.8426 - accuracy: 0.5111\n",
      "Epoch 36/50\n",
      "328/328 [==============================] - 23s 71ms/step - loss: 0.9615 - accuracy: 0.5138\n",
      "Epoch 37/50\n",
      "328/328 [==============================] - 23s 71ms/step - loss: 1.0520 - accuracy: 0.5069\n",
      "Epoch 38/50\n",
      "328/328 [==============================] - 23s 71ms/step - loss: 1.0131 - accuracy: 0.5076\n",
      "Epoch 39/50\n",
      "328/328 [==============================] - 25s 75ms/step - loss: 0.8094 - accuracy: 0.5107\n",
      "Epoch 40/50\n",
      "328/328 [==============================] - 26s 80ms/step - loss: 0.7258 - accuracy: 0.4981\n",
      "Epoch 41/50\n",
      "328/328 [==============================] - 26s 79ms/step - loss: 0.7135 - accuracy: 0.5034\n",
      "Epoch 42/50\n",
      "328/328 [==============================] - 25s 77ms/step - loss: 1.1008 - accuracy: 0.4950\n",
      "Epoch 43/50\n",
      " 17/328 [>.............................] - ETA: 22s - loss: 4.6313 - accuracy: 0.5074"
     ]
    }
   ],
   "source": [
    "lrf.find(\n",
    "    aug.flow(trainX, trainY, batch_size=BATCH_SIZE),\n",
    "    1e-10, 1e+1,\n",
    "    stepsPerEpoch=stepsPerEpochNum,\n",
    "    epochs=50,\n",
    "    batchSize=BATCH_SIZE,\n",
    "    classWeight=classWeight)\n"
   ]
  },
  {
   "cell_type": "code",
   "execution_count": 23,
   "metadata": {},
   "outputs": [
    {
     "name": "stdout",
     "output_type": "stream",
     "text": [
      "Loss Rate finder complete\n"
     ]
    },
    {
     "data": {
      "image/png": "[encoded data removed]",
      "text/plain": [
       "<Figure size 432x288 with 1 Axes>"
      ]
     },
     "metadata": {
      "needs_background": "light"
     },
     "output_type": "display_data"
    }
   ],
   "source": [
    "lrf.plot_loss()\n",
    "plt.savefig(LRFIND_PLOT_PATH)\n",
    "print(\"Loss Rate finder complete\")"
   ]
  },
  {
   "cell_type": "code",
   "execution_count": 24,
   "metadata": {},
   "outputs": [],
   "source": [
    "# define the initial learning rate, batch size, and number of epochs\n",
    "INIT_LR = 1e-3\n",
    "BATCH_SIZE = 8\n",
    "NUM_EPOCHS = 50"
   ]
  },
  {
   "cell_type": "markdown",
   "metadata": {},
   "source": [
    "### Start of Training"
   ]
  },
  {
   "cell_type": "code",
   "execution_count": 25,
   "metadata": {},
   "outputs": [],
   "source": [
    "aug = ImageDataGenerator(\n",
    "    rotation_range=30,\n",
    "    zoom_range=0.15,\n",
    "    width_shift_range=0.2,\n",
    "    height_shift_range=0.2,\n",
    "    shear_range=0.15,\n",
    "    horizontal_flip=True,\n",
    "    fill_mode=\"nearest\")"
   ]
  },
  {
   "cell_type": "code",
   "execution_count": 26,
   "metadata": {},
   "outputs": [],
   "source": [
    "# callback = tf.keras.callbacks.EarlyStopping(monitor='val_loss', patience=3)\n",
    "modelCheckpointFile = os.path.sep.join([targetDir, 'best_model.h5'])\n",
    "mc = tf.keras.callbacks.ModelCheckpoint(modelCheckpointFile, monitor='val_loss', mode='min', verbose=1)"
   ]
  },
  {
   "cell_type": "code",
   "execution_count": 27,
   "metadata": {},
   "outputs": [
    {
     "name": "stdout",
     "output_type": "stream",
     "text": [
      "Epoch 1/50\n",
      "326/327 [============================>.] - ETA: 0s - loss: 2.6110 - accuracy: 0.5008\n",
      "Epoch 00001: saving model to /userdata/kerasData/output/2020-05-26/best_model.h5\n",
      "327/327 [==============================] - 29s 89ms/step - loss: 2.6073 - accuracy: 0.5008 - val_loss: 0.8618 - val_accuracy: 0.5816\n",
      "Epoch 2/50\n",
      "326/327 [============================>.] - ETA: 0s - loss: 1.1525 - accuracy: 0.5138\n",
      "Epoch 00002: saving model to /userdata/kerasData/output/2020-05-26/best_model.h5\n",
      "327/327 [==============================] - 31s 95ms/step - loss: 1.1524 - accuracy: 0.5134 - val_loss: 0.6777 - val_accuracy: 0.6458\n",
      "Epoch 3/50\n",
      "326/327 [============================>.] - ETA: 0s - loss: 0.8211 - accuracy: 0.4962\n",
      "Epoch 00003: saving model to /userdata/kerasData/output/2020-05-26/best_model.h5\n",
      "327/327 [==============================] - 29s 88ms/step - loss: 0.8203 - accuracy: 0.4969 - val_loss: 0.6844 - val_accuracy: 0.5306\n",
      "Epoch 4/50\n",
      "326/327 [============================>.] - ETA: 0s - loss: 0.7548 - accuracy: 0.4927\n",
      "Epoch 00004: saving model to /userdata/kerasData/output/2020-05-26/best_model.h5\n",
      "327/327 [==============================] - 32s 98ms/step - loss: 0.7553 - accuracy: 0.4912 - val_loss: 0.7494 - val_accuracy: 0.3499\n",
      "Epoch 5/50\n",
      "326/327 [============================>.] - ETA: 0s - loss: 0.7326 - accuracy: 0.5150\n",
      "Epoch 00005: saving model to /userdata/kerasData/output/2020-05-26/best_model.h5\n",
      "327/327 [==============================] - 31s 95ms/step - loss: 0.7323 - accuracy: 0.5157 - val_loss: 0.7037 - val_accuracy: 0.4840\n",
      "Epoch 6/50\n",
      "326/327 [============================>.] - ETA: 0s - loss: 0.7211 - accuracy: 0.5142\n",
      "Epoch 00006: saving model to /userdata/kerasData/output/2020-05-26/best_model.h5\n",
      "327/327 [==============================] - 29s 89ms/step - loss: 0.7208 - accuracy: 0.5146 - val_loss: 0.6733 - val_accuracy: 0.6137\n",
      "Epoch 7/50\n",
      "326/327 [============================>.] - ETA: 0s - loss: 0.7313 - accuracy: 0.5150\n",
      "Epoch 00007: saving model to /userdata/kerasData/output/2020-05-26/best_model.h5\n",
      "327/327 [==============================] - 31s 94ms/step - loss: 0.7313 - accuracy: 0.5149 - val_loss: 0.7062 - val_accuracy: 0.4490\n",
      "Epoch 8/50\n",
      "326/327 [============================>.] - ETA: 0s - loss: 0.7242 - accuracy: 0.5169\n",
      "Epoch 00008: saving model to /userdata/kerasData/output/2020-05-26/best_model.h5\n",
      "327/327 [==============================] - 28s 85ms/step - loss: 0.7238 - accuracy: 0.5172 - val_loss: 0.7162 - val_accuracy: 0.4767\n",
      "Epoch 9/50\n",
      "326/327 [============================>.] - ETA: 0s - loss: 0.7175 - accuracy: 0.5204\n",
      "Epoch 00009: saving model to /userdata/kerasData/output/2020-05-26/best_model.h5\n",
      "327/327 [==============================] - 30s 93ms/step - loss: 0.7172 - accuracy: 0.5211 - val_loss: 0.6816 - val_accuracy: 0.5496\n",
      "Epoch 10/50\n",
      "326/327 [============================>.] - ETA: 0s - loss: 0.7341 - accuracy: 0.4785\n",
      "Epoch 00010: saving model to /userdata/kerasData/output/2020-05-26/best_model.h5\n",
      "327/327 [==============================] - 29s 89ms/step - loss: 0.7335 - accuracy: 0.4794 - val_loss: 0.7103 - val_accuracy: 0.4621\n",
      "Epoch 11/50\n",
      "326/327 [============================>.] - ETA: 0s - loss: 0.7181 - accuracy: 0.5154\n",
      "Epoch 00011: saving model to /userdata/kerasData/output/2020-05-26/best_model.h5\n",
      "327/327 [==============================] - 31s 95ms/step - loss: 0.7178 - accuracy: 0.5154 - val_loss: 0.7000 - val_accuracy: 0.5452\n",
      "Epoch 12/50\n",
      "326/327 [============================>.] - ETA: 0s - loss: 0.7231 - accuracy: 0.5015\n",
      "Epoch 00012: saving model to /userdata/kerasData/output/2020-05-26/best_model.h5\n",
      "327/327 [==============================] - 39s 119ms/step - loss: 0.7228 - accuracy: 0.5019 - val_loss: 0.7249 - val_accuracy: 0.3571\n",
      "Epoch 13/50\n",
      "326/327 [============================>.] - ETA: 0s - loss: 0.7147 - accuracy: 0.5119\n",
      "Epoch 00013: saving model to /userdata/kerasData/output/2020-05-26/best_model.h5\n",
      "327/327 [==============================] - 41s 126ms/step - loss: 0.7151 - accuracy: 0.5111 - val_loss: 0.7363 - val_accuracy: 0.4519\n",
      "Epoch 14/50\n",
      "326/327 [============================>.] - ETA: 0s - loss: 0.7215 - accuracy: 0.5027\n",
      "Epoch 00014: saving model to /userdata/kerasData/output/2020-05-26/best_model.h5\n",
      "327/327 [==============================] - 32s 97ms/step - loss: 0.7212 - accuracy: 0.5031 - val_loss: 0.6912 - val_accuracy: 0.5073\n",
      "Epoch 15/50\n",
      "326/327 [============================>.] - ETA: 0s - loss: 0.7240 - accuracy: 0.5177\n",
      "Epoch 00015: saving model to /userdata/kerasData/output/2020-05-26/best_model.h5\n",
      "327/327 [==============================] - 36s 110ms/step - loss: 0.7238 - accuracy: 0.5176 - val_loss: 0.6800 - val_accuracy: 0.5743\n",
      "Epoch 16/50\n",
      "326/327 [============================>.] - ETA: 0s - loss: 0.7226 - accuracy: 0.5000\n",
      "Epoch 00016: saving model to /userdata/kerasData/output/2020-05-26/best_model.h5\n",
      "327/327 [==============================] - 32s 96ms/step - loss: 0.7225 - accuracy: 0.5004 - val_loss: 0.7079 - val_accuracy: 0.4810\n",
      "Epoch 17/50\n",
      "326/327 [============================>.] - ETA: 0s - loss: 0.7256 - accuracy: 0.5008\n",
      "Epoch 00017: saving model to /userdata/kerasData/output/2020-05-26/best_model.h5\n",
      "327/327 [==============================] - 28s 86ms/step - loss: 0.7255 - accuracy: 0.5008 - val_loss: 0.7006 - val_accuracy: 0.4592\n",
      "Epoch 18/50\n",
      "326/327 [============================>.] - ETA: 0s - loss: 0.7223 - accuracy: 0.5123\n",
      "Epoch 00018: saving model to /userdata/kerasData/output/2020-05-26/best_model.h5\n",
      "327/327 [==============================] - 30s 91ms/step - loss: 0.7218 - accuracy: 0.5130 - val_loss: 0.7023 - val_accuracy: 0.4606\n",
      "Epoch 19/50\n",
      "326/327 [============================>.] - ETA: 0s - loss: 0.7184 - accuracy: 0.5119\n",
      "Epoch 00019: saving model to /userdata/kerasData/output/2020-05-26/best_model.h5\n",
      "327/327 [==============================] - 34s 104ms/step - loss: 0.7187 - accuracy: 0.5115 - val_loss: 0.6896 - val_accuracy: 0.5248\n",
      "Epoch 20/50\n",
      "326/327 [============================>.] - ETA: 0s - loss: 0.7237 - accuracy: 0.5046\n",
      "Epoch 00020: saving model to /userdata/kerasData/output/2020-05-26/best_model.h5\n",
      "327/327 [==============================] - 31s 93ms/step - loss: 0.7236 - accuracy: 0.5046 - val_loss: 0.7158 - val_accuracy: 0.3746\n",
      "Epoch 21/50\n",
      "326/327 [============================>.] - ETA: 0s - loss: 0.7200 - accuracy: 0.4973\n",
      "Epoch 00021: saving model to /userdata/kerasData/output/2020-05-26/best_model.h5\n",
      "327/327 [==============================] - 35s 107ms/step - loss: 0.7203 - accuracy: 0.4966 - val_loss: 0.8201 - val_accuracy: 0.3469\n",
      "Epoch 22/50\n",
      "326/327 [============================>.] - ETA: 0s - loss: 0.7188 - accuracy: 0.5138\n",
      "Epoch 00022: saving model to /userdata/kerasData/output/2020-05-26/best_model.h5\n",
      "327/327 [==============================] - 32s 97ms/step - loss: 0.7186 - accuracy: 0.5142 - val_loss: 0.6992 - val_accuracy: 0.5233\n",
      "Epoch 23/50\n",
      "326/327 [============================>.] - ETA: 0s - loss: 0.7205 - accuracy: 0.5085\n",
      "Epoch 00023: saving model to /userdata/kerasData/output/2020-05-26/best_model.h5\n",
      "327/327 [==============================] - 36s 111ms/step - loss: 0.7207 - accuracy: 0.5080 - val_loss: 0.7151 - val_accuracy: 0.4388\n",
      "Epoch 24/50\n",
      "326/327 [============================>.] - ETA: 0s - loss: 0.7209 - accuracy: 0.5031\n",
      "Epoch 00024: saving model to /userdata/kerasData/output/2020-05-26/best_model.h5\n",
      "327/327 [==============================] - 31s 96ms/step - loss: 0.7206 - accuracy: 0.5031 - val_loss: 0.7208 - val_accuracy: 0.4140\n",
      "Epoch 25/50\n",
      "326/327 [============================>.] - ETA: 0s - loss: 0.7225 - accuracy: 0.5092\n",
      "Epoch 00025: saving model to /userdata/kerasData/output/2020-05-26/best_model.h5\n",
      "327/327 [==============================] - 32s 99ms/step - loss: 0.7226 - accuracy: 0.5088 - val_loss: 0.6847 - val_accuracy: 0.5481\n",
      "Epoch 26/50\n",
      "326/327 [============================>.] - ETA: 0s - loss: 0.7220 - accuracy: 0.4935\n",
      "Epoch 00026: saving model to /userdata/kerasData/output/2020-05-26/best_model.h5\n",
      "327/327 [==============================] - 31s 96ms/step - loss: 0.7221 - accuracy: 0.4931 - val_loss: 0.7074 - val_accuracy: 0.4417\n",
      "Epoch 27/50\n",
      "326/327 [============================>.] - ETA: 0s - loss: 0.7113 - accuracy: 0.5208\n",
      "Epoch 00027: saving model to /userdata/kerasData/output/2020-05-26/best_model.h5\n",
      "327/327 [==============================] - 32s 99ms/step - loss: 0.7112 - accuracy: 0.5211 - val_loss: 0.6825 - val_accuracy: 0.5350\n"
     ]
    },
    {
     "name": "stdout",
     "output_type": "stream",
     "text": [
      "Epoch 28/50\n",
      "326/327 [============================>.] - ETA: 0s - loss: 0.7130 - accuracy: 0.5177\n",
      "Epoch 00028: saving model to /userdata/kerasData/output/2020-05-26/best_model.h5\n",
      "327/327 [==============================] - 36s 111ms/step - loss: 0.7131 - accuracy: 0.5176 - val_loss: 0.7234 - val_accuracy: 0.4155\n",
      "Epoch 29/50\n",
      "326/327 [============================>.] - ETA: 0s - loss: 0.7161 - accuracy: 0.5108\n",
      "Epoch 00029: saving model to /userdata/kerasData/output/2020-05-26/best_model.h5\n",
      "327/327 [==============================] - 34s 104ms/step - loss: 0.7162 - accuracy: 0.5111 - val_loss: 0.7193 - val_accuracy: 0.4082\n",
      "Epoch 30/50\n",
      "326/327 [============================>.] - ETA: 0s - loss: 0.7097 - accuracy: 0.5391\n",
      "Epoch 00030: saving model to /userdata/kerasData/output/2020-05-26/best_model.h5\n",
      "327/327 [==============================] - 35s 107ms/step - loss: 0.7095 - accuracy: 0.5398 - val_loss: 0.7208 - val_accuracy: 0.4213\n",
      "Epoch 31/50\n",
      "326/327 [============================>.] - ETA: 0s - loss: 0.7195 - accuracy: 0.5169\n",
      "Epoch 00031: saving model to /userdata/kerasData/output/2020-05-26/best_model.h5\n",
      "327/327 [==============================] - 41s 124ms/step - loss: 0.7196 - accuracy: 0.5165 - val_loss: 0.7073 - val_accuracy: 0.5087\n",
      "Epoch 32/50\n",
      "326/327 [============================>.] - ETA: 0s - loss: 0.7201 - accuracy: 0.4935\n",
      "Epoch 00032: saving model to /userdata/kerasData/output/2020-05-26/best_model.h5\n",
      "327/327 [==============================] - 34s 103ms/step - loss: 0.7200 - accuracy: 0.4935 - val_loss: 0.7228 - val_accuracy: 0.4388\n",
      "Epoch 33/50\n",
      "326/327 [============================>.] - ETA: 0s - loss: 0.7112 - accuracy: 0.5219\n",
      "Epoch 00033: saving model to /userdata/kerasData/output/2020-05-26/best_model.h5\n",
      "327/327 [==============================] - 41s 124ms/step - loss: 0.7114 - accuracy: 0.5218 - val_loss: 0.7408 - val_accuracy: 0.3746\n",
      "Epoch 34/50\n",
      "326/327 [============================>.] - ETA: 0s - loss: 0.7217 - accuracy: 0.4850\n",
      "Epoch 00034: saving model to /userdata/kerasData/output/2020-05-26/best_model.h5\n",
      "327/327 [==============================] - 37s 114ms/step - loss: 0.7212 - accuracy: 0.4858 - val_loss: 0.7049 - val_accuracy: 0.4388\n",
      "Epoch 35/50\n",
      "326/327 [============================>.] - ETA: 0s - loss: 0.7206 - accuracy: 0.4981\n",
      "Epoch 00035: saving model to /userdata/kerasData/output/2020-05-26/best_model.h5\n",
      "327/327 [==============================] - 35s 107ms/step - loss: 0.7205 - accuracy: 0.4977 - val_loss: 0.7185 - val_accuracy: 0.4067\n",
      "Epoch 36/50\n",
      "326/327 [============================>.] - ETA: 0s - loss: 0.7124 - accuracy: 0.5073\n",
      "Epoch 00036: saving model to /userdata/kerasData/output/2020-05-26/best_model.h5\n",
      "327/327 [==============================] - 33s 101ms/step - loss: 0.7125 - accuracy: 0.5069 - val_loss: 0.7033 - val_accuracy: 0.4679\n",
      "Epoch 37/50\n",
      "326/327 [============================>.] - ETA: 0s - loss: 0.7174 - accuracy: 0.4946\n",
      "Epoch 00037: saving model to /userdata/kerasData/output/2020-05-26/best_model.h5\n",
      "327/327 [==============================] - 31s 94ms/step - loss: 0.7174 - accuracy: 0.4950 - val_loss: 0.7308 - val_accuracy: 0.4534\n",
      "Epoch 38/50\n",
      "326/327 [============================>.] - ETA: 0s - loss: 0.7121 - accuracy: 0.5234\n",
      "Epoch 00038: saving model to /userdata/kerasData/output/2020-05-26/best_model.h5\n",
      "327/327 [==============================] - 38s 116ms/step - loss: 0.7120 - accuracy: 0.5234 - val_loss: 0.7905 - val_accuracy: 0.3542\n",
      "Epoch 39/50\n",
      "326/327 [============================>.] - ETA: 0s - loss: 0.7201 - accuracy: 0.5042\n",
      "Epoch 00039: saving model to /userdata/kerasData/output/2020-05-26/best_model.h5\n",
      "327/327 [==============================] - 33s 102ms/step - loss: 0.7199 - accuracy: 0.5046 - val_loss: 0.7254 - val_accuracy: 0.3644\n",
      "Epoch 40/50\n",
      "326/327 [============================>.] - ETA: 0s - loss: 0.7176 - accuracy: 0.5138\n",
      "Epoch 00040: saving model to /userdata/kerasData/output/2020-05-26/best_model.h5\n",
      "327/327 [==============================] - 43s 133ms/step - loss: 0.7173 - accuracy: 0.5138 - val_loss: 0.7307 - val_accuracy: 0.4140\n",
      "Epoch 41/50\n",
      "326/327 [============================>.] - ETA: 0s - loss: 0.7140 - accuracy: 0.5035\n",
      "Epoch 00041: saving model to /userdata/kerasData/output/2020-05-26/best_model.h5\n",
      "327/327 [==============================] - 40s 124ms/step - loss: 0.7140 - accuracy: 0.5031 - val_loss: 0.6854 - val_accuracy: 0.5773\n",
      "Epoch 42/50\n",
      "326/327 [============================>.] - ETA: 0s - loss: 0.7138 - accuracy: 0.5177\n",
      "Epoch 00042: saving model to /userdata/kerasData/output/2020-05-26/best_model.h5\n",
      "327/327 [==============================] - 38s 116ms/step - loss: 0.7137 - accuracy: 0.5184 - val_loss: 0.7253 - val_accuracy: 0.3834\n",
      "Epoch 43/50\n",
      "326/327 [============================>.] - ETA: 0s - loss: 0.7122 - accuracy: 0.5158\n",
      "Epoch 00043: saving model to /userdata/kerasData/output/2020-05-26/best_model.h5\n",
      "327/327 [==============================] - 33s 100ms/step - loss: 0.7120 - accuracy: 0.5165 - val_loss: 0.7690 - val_accuracy: 0.3907\n",
      "Epoch 44/50\n",
      "326/327 [============================>.] - ETA: 0s - loss: 0.7129 - accuracy: 0.5200\n",
      "Epoch 00044: saving model to /userdata/kerasData/output/2020-05-26/best_model.h5\n",
      "327/327 [==============================] - 34s 103ms/step - loss: 0.7129 - accuracy: 0.5199 - val_loss: 0.7178 - val_accuracy: 0.3950\n",
      "Epoch 45/50\n",
      "326/327 [============================>.] - ETA: 0s - loss: 0.7156 - accuracy: 0.5031\n",
      "Epoch 00045: saving model to /userdata/kerasData/output/2020-05-26/best_model.h5\n",
      "327/327 [==============================] - 31s 94ms/step - loss: 0.7161 - accuracy: 0.5023 - val_loss: 0.7437 - val_accuracy: 0.3848\n",
      "Epoch 46/50\n",
      "326/327 [============================>.] - ETA: 0s - loss: 0.7097 - accuracy: 0.5184\n",
      "Epoch 00046: saving model to /userdata/kerasData/output/2020-05-26/best_model.h5\n",
      "327/327 [==============================] - 32s 97ms/step - loss: 0.7102 - accuracy: 0.5176 - val_loss: 0.7240 - val_accuracy: 0.3921\n",
      "Epoch 47/50\n",
      "326/327 [============================>.] - ETA: 0s - loss: 0.7129 - accuracy: 0.5085\n",
      "Epoch 00047: saving model to /userdata/kerasData/output/2020-05-26/best_model.h5\n",
      "327/327 [==============================] - 35s 108ms/step - loss: 0.7127 - accuracy: 0.5088 - val_loss: 0.7349 - val_accuracy: 0.3878\n",
      "Epoch 48/50\n",
      "326/327 [============================>.] - ETA: 0s - loss: 0.7162 - accuracy: 0.5130\n",
      "Epoch 00048: saving model to /userdata/kerasData/output/2020-05-26/best_model.h5\n",
      "327/327 [==============================] - 37s 112ms/step - loss: 0.7159 - accuracy: 0.5138 - val_loss: 0.7366 - val_accuracy: 0.3994\n",
      "Epoch 49/50\n",
      "326/327 [============================>.] - ETA: 0s - loss: 0.7056 - accuracy: 0.5331\n",
      "Epoch 00049: saving model to /userdata/kerasData/output/2020-05-26/best_model.h5\n",
      "327/327 [==============================] - 39s 120ms/step - loss: 0.7055 - accuracy: 0.5342 - val_loss: 0.7024 - val_accuracy: 0.4650\n",
      "Epoch 50/50\n",
      "326/327 [============================>.] - ETA: 0s - loss: 0.7203 - accuracy: 0.5008\n",
      "Epoch 00050: saving model to /userdata/kerasData/output/2020-05-26/best_model.h5\n",
      "327/327 [==============================] - 35s 106ms/step - loss: 0.7199 - accuracy: 0.5015 - val_loss: 0.7106 - val_accuracy: 0.4140\n"
     ]
    }
   ],
   "source": [
    "H = model.fit_generator(\n",
    "    aug.flow(trainX, trainY, batch_size=BATCH_SIZE),\n",
    "    validation_data=(testX, testY),\n",
    "    steps_per_epoch=trainX.shape[0] // BATCH_SIZE,\n",
    "    epochs=NUM_EPOCHS,\n",
    "    class_weight=classWeight,\n",
    "    callbacks=[mc],\n",
    "    verbose=1)"
   ]
  },
  {
   "cell_type": "code",
   "execution_count": 28,
   "metadata": {},
   "outputs": [],
   "source": [
    "# H = model.fit(x=trainX,y=trainY, batch_size=BATCH_SIZE,\n",
    "#     validation_data=(testX, testY),\n",
    "#     steps_per_epoch=trainX.shape[0] // BATCH_SIZE,\n",
    "#     epochs=NUM_EPOCHS,\n",
    "#     class_weight=classWeight,\n",
    "#     callbacks=[mc],\n",
    "#     verbose=2)"
   ]
  },
  {
   "cell_type": "code",
   "execution_count": 29,
   "metadata": {},
   "outputs": [
    {
     "name": "stdout",
     "output_type": "stream",
     "text": [
      "[INFO] evaluating network...\n",
      "              precision    recall  f1-score   support\n",
      "\n",
      "    Non-Fire       0.36      0.91      0.52       238\n",
      "        Fire       0.76      0.15      0.25       448\n",
      "\n",
      "    accuracy                           0.41       686\n",
      "   macro avg       0.56      0.53      0.38       686\n",
      "weighted avg       0.62      0.41      0.34       686\n",
      "\n",
      "[INFO] serializing network to '/userdata/kerasData/output/2020-05-26/fire_detection.model'...\n",
      "WARNING:tensorflow:From /opt/conda/lib/python3.6/site-packages/tensorflow_core/python/ops/resource_variable_ops.py:1781: calling BaseResourceVariable.__init__ (from tensorflow.python.ops.resource_variable_ops) with constraint is deprecated and will be removed in a future version.\n",
      "Instructions for updating:\n",
      "If using Keras pass *_constraint arguments to layers.\n",
      "INFO:tensorflow:Assets written to: /userdata/kerasData/output/2020-05-26/fire_detection.model/assets\n"
     ]
    },
    {
     "data": {
      "image/png": "[encoded data removed]",
      "text/plain": [
       "<Figure size 432x288 with 1 Axes>"
      ]
     },
     "metadata": {},
     "output_type": "display_data"
    }
   ],
   "source": [
    "# evaluate the network and show a classification report\n",
    "print(\"[INFO] evaluating network...\")\n",
    "predictions = model.predict(testX, batch_size=BATCH_SIZE)\n",
    "print(classification_report(testY.argmax(axis=1),\n",
    "    predictions.argmax(axis=1), target_names=CLASSES))\n",
    " \n",
    "# serialize the model to disk\n",
    "print(\"[INFO] serializing network to '{}'...\".format(MODEL_PATH))\n",
    "model.save(MODEL_PATH)\n",
    " \n",
    "# construct a plot that plots and saves the training history\n",
    "N = np.arange(0, NUM_EPOCHS)\n",
    "plt.style.use(\"ggplot\")\n",
    "plt.figure()\n",
    "plt.plot(N, H.history[\"loss\"], label=\"train_loss\")\n",
    "plt.plot(N, H.history[\"val_loss\"], label=\"val_loss\")\n",
    "plt.plot(N, H.history[\"accuracy\"], label=\"train_acc\")\n",
    "plt.plot(N, H.history[\"val_accuracy\"], label=\"val_acc\")\n",
    "plt.title(\"Training Loss and Accuracy\")\n",
    "plt.xlabel(\"Epoch #\")\n",
    "plt.ylabel(\"Loss/Accuracy\")\n",
    "plt.legend(loc=\"lower left\")\n",
    "plt.savefig(TRAINING_PLOT_PATH)"
   ]
  },
  {
   "cell_type": "code",
   "execution_count": 30,
   "metadata": {},
   "outputs": [],
   "source": [
    "model.load_weights(modelCheckpointFile)"
   ]
  },
  {
   "cell_type": "code",
   "execution_count": 31,
   "metadata": {},
   "outputs": [
    {
     "name": "stdout",
     "output_type": "stream",
     "text": [
      "\r",
      "686/1 [====================================================================================================================================================================================================================================================================================================================================================================================================================================================================================================================================================================================================================================================================================================================================================================================================================================================================================================================================================================================================================================================================================================================================================================================================================================================================================================================================================================================================================================================================================================================================================================================================================================================================================================================================================================================================================================================================================================================================================================================================================================================================================================================================================================================================================================================================================================================================================================================================================================================================================================================================================================================================================================================================================================================================================================================================================================================================================================================================================================================================================================================================================================================================================================================================================================================================================================================================================================================================================================================================================================================================================================================================================================================================================================================================================================================================================================================================================================================================================================================================================================================================================================================================================================================================================================================================================================================================================================================================================================================================================================================================================================================================================================================================================================================================================================================================================================================================================================================================================================================================================================================================================================================================================================================================================================================================================================================================================================================================================================================================================================================================================================================================================================================================================================================================================================================================================================================================================================================================================================================================================================================================================================================================================================================================================================================================================================================================================================================================================================================================================================================================================================================================================================================================================================================================================================================================================================================================================================================================================================================================================================================================================================================================================================================================================================================================================================================================================================================================================================================================================================================================================================================================================================================================================================================================================================================================================================================================================================================================================================================================================================================================================================================================================================================================================================================================================================================================================================================================================================================================================================================================================================================================================================================================================================================================================================================================================================================================================================================================================================================================================================================================================================================================================================================================================================================================================================================================================================================================================================================================================================================================================================================================================================================================================================================================================================================================================================================================================================================================================================================================================================================================================================================================================================================================================================================================================================================================================================================================================================================================================================================================================================================================================================================================================================================================================================================================================================================================================================================================================================================================================================================================================================================================================================================================================================================================================================================================================================================================================================================================================================================================================================================================================================================================================================================================================================================================================================================================================================================================================================================================================================================================================================================================================================================================================================================================================================================================================================================================================================================================================================================================================================================================================================================================================================================================================================================================================================================================================================================================================================================================================================================================================================================================================================================================================================================================================================================================================================================================================================================================================================================================================================================================================================================================================================================================================================================================================================================================================================================================================================================================================================================================================================================================================================================================================================================================================================================================================================================================================================================================================================================================================================================================================================================================================================================================================================================================================================================================================================================================================================================================================================================================================================================================================================================================================================================================================================================================================================================================================================================================================================================================================================================================================================================================================================================================================================================================================================================================================================================================================================================================================================================================================================================================================================================================================================================================================================================================================================================================================================================================================================================================================================================================================================================================================================================================================================================================================================================================================================================================================================================================================================================================================================================================================================================================================================================================================================================================================================================================================================================================================================================================================================================================================================================================================================================================================================================================================================================================================================================================================================================================================================================================================================================================================================================================================================================================================================================================================================================================================================================================================================================================================================================================================================================================================================================================================================================================================================================================================================================================================================================================================================================================================================================================================================================================================================================================================================================================================================================================================================================================================================================================================================================================================================================================================================================================================================================================================================================================================================================================================================================================================================================================================================================================================================================================================================================================================================================================================================================================================================================================================================================================================================================================================================================================================================================================================================================================================================================================================================================================================================================================================================================================================================================================================================================================================================================================================================================================================================================================================================] - 1s 891us/sample - loss: 0.7044 - accuracy: 0.4140\n"
     ]
    }
   ],
   "source": [
    "loss,acc = model.evaluate(testX,testY)"
   ]
  },
  {
   "cell_type": "code",
   "execution_count": 32,
   "metadata": {},
   "outputs": [
    {
     "name": "stdout",
     "output_type": "stream",
     "text": [
      "Test Accuracy: 0.41399416\n"
     ]
    }
   ],
   "source": [
    "print(\"Test Accuracy: \" + str(acc))"
   ]
  },
  {
   "cell_type": "markdown",
   "metadata": {},
   "source": [
    "### Transfer to TF.LITE"
   ]
  },
  {
   "cell_type": "code",
   "execution_count": 33,
   "metadata": {},
   "outputs": [],
   "source": [
    "from tensorflow import lite"
   ]
  },
  {
   "cell_type": "code",
   "execution_count": 34,
   "metadata": {},
   "outputs": [],
   "source": [
    "converter = lite.TFLiteConverter.from_keras_model(model)\n",
    "tflite_model = converter.convert()"
   ]
  },
  {
   "cell_type": "code",
   "execution_count": 35,
   "metadata": {},
   "outputs": [
    {
     "data": {
      "text/plain": [
       "8501404"
      ]
     },
     "execution_count": 35,
     "metadata": {},
     "output_type": "execute_result"
    }
   ],
   "source": [
    "tfLiteModelFile = os.path.sep.join([targetDir, 'model.tflite'])\n",
    "open(tfLiteModelFile, \"wb\").write(tflite_model)"
   ]
  }
 ],
 "metadata": {
  "kernelspec": {
   "display_name": "Python 3",
   "language": "python",
   "name": "python3"
  },
  "language_info": {
   "codemirror_mode": {
    "name": "ipython",
    "version": 3
   },
   "file_extension": ".py",
   "mimetype": "text/x-python",
   "name": "python",
   "nbconvert_exporter": "python",
   "pygments_lexer": "ipython3",
   "version": "3.9.1"
  }
 },
 "nbformat": 4,
 "nbformat_minor": 2
}
